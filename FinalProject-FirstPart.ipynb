{
 "cells": [
  {
   "cell_type": "markdown",
   "metadata": {},
   "source": [
    "<h1 align=center><font size = 5>Capstone project - The best place to open a bakery in Chengdu, China</font></h1>"
   ]
  },
  {
   "cell_type": "markdown",
   "metadata": {},
   "source": [
    "## Introduction & Business Problem\n",
    "\n",
    "With the development of globalization, more and more Chinese people start to buy products from western bakeries, especially for college students and white-collar workers. A friend of mine wants to open a western-style bakery in some borough of Chengdu in China. He asked me to help him to find the best place for it. In order to find the best place for a bakery, I will need to leverage some information about the boroughs in Chengdu. I must be sure that there will be enough customers for the bakery, and on the other hand that there are not already too many other similar bakeries in the same borough. In the following I will use data science to analyze which borough of Chengdu is the best to open a bakery.\n",
    "\n",
    "The main business problem attacked in this work is based on how to determine the optimum location for a new business – a bakery. This problem can be solved by means of inferred data about already existing business. Naturally, certain types of enterprises tend to be built in the same areas because of economic incentive or public regulations.  It is important to also mention that the inexistence of certain types of enterprises can also mean that there is no demand for their services, indicating that data without additional socioeconomic information about the regions is not sufficient to construct a complete picture. Nevertheless, it is possible to construct a robust profile, which is sufficient for kickstarting the plan for a new business, and this will be my main goal.\n"
   ]
  },
  {
   "cell_type": "markdown",
   "metadata": {},
   "source": [
    "## Data \n",
    "\n",
    "The city - Chengdu will be analyzed in this work. The boroughs and neighborhoods names and postal information from Chengdu are extracted from a Wikipedia webpage¹, and with this information at hands, the Google Geocoder API can be used to extract geographical coordinates of each borough using their names and postcode as input. The coordinates will be utilized for map generation, and as input for the Foursquare API, which will be leveraged to provide venues information of each borough. \n",
    "\n",
    "In the following, I will mainly focus on the venue category parameter, refining and clustering different categories of venues in major groups that will facilitate the analysis and also make it possible for the generation of a better visualization. Clustering algorithms like K-Means will be used to automatically group the boroughs in similar groups. Plotly, Seaborn and Folium Python packages are used for data rendering and visualization.\n",
    "\n",
    "[1] https://en.wikipedia.org/wiki/Chengdu"
   ]
  }
 ],
 "metadata": {
  "kernelspec": {
   "display_name": "Python 3",
   "language": "python",
   "name": "python3"
  },
  "language_info": {
   "codemirror_mode": {
    "name": "ipython",
    "version": 3
   },
   "file_extension": ".py",
   "mimetype": "text/x-python",
   "name": "python",
   "nbconvert_exporter": "python",
   "pygments_lexer": "ipython3",
   "version": "3.6.5"
  }
 },
 "nbformat": 4,
 "nbformat_minor": 2
}
